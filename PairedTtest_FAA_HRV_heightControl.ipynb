{
 "cells": [
  {
   "cell_type": "code",
   "execution_count": 6,
   "metadata": {},
   "outputs": [],
   "source": [
    "import numpy as np\n",
    "import pandas as pd\n",
    "import scipy\n",
    "from scipy import stats"
   ]
  },
  {
   "cell_type": "code",
   "execution_count": 7,
   "metadata": {},
   "outputs": [],
   "source": [
    "data_dir = 'C:\\\\Users\\\\Rachneet Kaur\\\\Desktop\\\\UIUC\\\\Conference&Presenatations\\\\2019\\\\shou data\\\\'\n",
    "file = 'height_control_data_shou.csv'\n",
    "\n",
    "height_control_data = pd.read_csv(data_dir+file)"
   ]
  },
  {
   "cell_type": "code",
   "execution_count": 8,
   "metadata": {},
   "outputs": [
    {
     "data": {
      "text/plain": [
       "Ttest_relResult(statistic=0.8702129575749246, pvalue=0.39011343007911436)"
      ]
     },
     "execution_count": 8,
     "metadata": {},
     "output_type": "execute_result"
    }
   ],
   "source": [
    "scipy.stats.ttest_rel(height_control_data['FAAP'], height_control_data['FAANP'])"
   ]
  },
  {
   "cell_type": "code",
   "execution_count": 16,
   "metadata": {},
   "outputs": [],
   "source": [
    "file = 'HRV_test.csv'\n",
    "\n",
    "HRV_ttest_data = pd.read_csv(data_dir+file, header = None)"
   ]
  },
  {
   "cell_type": "code",
   "execution_count": 44,
   "metadata": {},
   "outputs": [],
   "source": [
    "list1 = HRV_ttest_data.iloc[:, 1][:57][~HRV_ttest_data.iloc[:, 1].isna()].values\n",
    "list2 = HRV_ttest_data.iloc[:, 0][:57][~HRV_ttest_data.iloc[:, 1].isna()].values"
   ]
  },
  {
   "cell_type": "code",
   "execution_count": 46,
   "metadata": {},
   "outputs": [
    {
     "data": {
      "text/plain": [
       "array([1.76345865e+00, 3.91235954e+00, 1.29811967e+00, 2.89980584e+00,\n",
       "       8.19732993e+00, 4.23357401e+00, 6.73326258e-01, 1.74268573e+00,\n",
       "       9.16497303e-01, 2.93129188e+00, 1.40046990e+00, 2.56253888e+00,\n",
       "       1.94676453e+00, 9.55906032e-01, 8.71920963e+00, 2.67434436e+00,\n",
       "       1.06206226e+01, 1.26848867e+00, 2.81156386e+00, 7.17247706e+00,\n",
       "       2.84840550e+01, 1.30608057e+00, 3.69210007e+00, 1.10384275e+00,\n",
       "       5.60560929e+00, 1.10555394e+01, 7.77229809e-01, 3.05651745e+00,\n",
       "       3.24398340e+00, 2.17363148e+01, 6.99749003e-01, 3.17926908e+00,\n",
       "       1.65901579e+00, 2.70831409e+00, 4.00763304e+00, 2.01866565e+00,\n",
       "       3.16604513e+00, 1.51370822e+00, 3.05788788e+00, 1.18119711e+01,\n",
       "       2.69429100e-02, 3.17132364e+00])"
      ]
     },
     "execution_count": 46,
     "metadata": {},
     "output_type": "execute_result"
    }
   ],
   "source": [
    "list2"
   ]
  },
  {
   "cell_type": "code",
   "execution_count": 47,
   "metadata": {},
   "outputs": [
    {
     "data": {
      "text/plain": [
       "WilcoxonResult(statistic=442.0, pvalue=0.9054458470326758)"
      ]
     },
     "execution_count": 47,
     "metadata": {},
     "output_type": "execute_result"
    }
   ],
   "source": [
    "scipy.stats.wilcoxon(list1, list2)"
   ]
  },
  {
   "cell_type": "code",
   "execution_count": null,
   "metadata": {},
   "outputs": [],
   "source": []
  }
 ],
 "metadata": {
  "kernelspec": {
   "display_name": "Python 3",
   "language": "python",
   "name": "python3"
  },
  "language_info": {
   "codemirror_mode": {
    "name": "ipython",
    "version": 3
   },
   "file_extension": ".py",
   "mimetype": "text/x-python",
   "name": "python",
   "nbconvert_exporter": "python",
   "pygments_lexer": "ipython3",
   "version": "3.7.3"
  }
 },
 "nbformat": 4,
 "nbformat_minor": 2
}
